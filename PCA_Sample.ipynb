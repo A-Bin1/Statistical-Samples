{
 "cells": [
  {
   "cell_type": "markdown",
   "metadata": {},
   "source": [
    "Principal Component Analysis of Geomechanical Properties of Rock\n",
    "\n",
    "Dataset courtesy of https://www.kaggle.com/datasets/minhazengg/geomechanical-properties-of-rock/data\n",
    "\n",
    "PCA Example Follow-Along from https://datagy.io/python-pca/"
   ]
  },
  {
   "cell_type": "code",
   "execution_count": 202,
   "metadata": {},
   "outputs": [],
   "source": [
    "import pandas as pd\n",
    "rock_df = pd.read_csv(\"https://raw.githubusercontent.com/A-Bin1/Statistical-Samples/main/Geomechanical_Properties_of_Rock.csv\")"
   ]
  },
  {
   "cell_type": "code",
   "execution_count": 203,
   "metadata": {},
   "outputs": [
    {
     "data": {
      "text/plain": [
       "(1904, 9)"
      ]
     },
     "execution_count": 203,
     "metadata": {},
     "output_type": "execute_result"
    }
   ],
   "source": [
    "rock_df.shape\n",
    "\n",
    "#1904 samples with 9 features"
   ]
  },
  {
   "cell_type": "code",
   "execution_count": 204,
   "metadata": {},
   "outputs": [
    {
     "data": {
      "text/html": [
       "<div>\n",
       "<style scoped>\n",
       "    .dataframe tbody tr th:only-of-type {\n",
       "        vertical-align: middle;\n",
       "    }\n",
       "\n",
       "    .dataframe tbody tr th {\n",
       "        vertical-align: top;\n",
       "    }\n",
       "\n",
       "    .dataframe thead th {\n",
       "        text-align: right;\n",
       "    }\n",
       "</style>\n",
       "<table border=\"1\" class=\"dataframe\">\n",
       "  <thead>\n",
       "    <tr style=\"text-align: right;\">\n",
       "      <th></th>\n",
       "      <th>Unnamed: 0</th>\n",
       "      <th>Depth</th>\n",
       "      <th>Resistivity</th>\n",
       "      <th>Gamma Ray</th>\n",
       "      <th>Total Porosity</th>\n",
       "      <th>Effective Porosity</th>\n",
       "      <th>Bulk Density</th>\n",
       "      <th>Compression Wave Travel Time</th>\n",
       "      <th>Shear Wave Travel Time</th>\n",
       "    </tr>\n",
       "  </thead>\n",
       "  <tbody>\n",
       "    <tr>\n",
       "      <th>0</th>\n",
       "      <td>0</td>\n",
       "      <td>6805.0</td>\n",
       "      <td>57.47087</td>\n",
       "      <td>110.47838</td>\n",
       "      <td>0.03449</td>\n",
       "      <td>0.00445</td>\n",
       "      <td>2.76576</td>\n",
       "      <td>67.67523</td>\n",
       "      <td>124.05187</td>\n",
       "    </tr>\n",
       "    <tr>\n",
       "      <th>1</th>\n",
       "      <td>1</td>\n",
       "      <td>6805.5</td>\n",
       "      <td>58.85637</td>\n",
       "      <td>112.94601</td>\n",
       "      <td>0.03716</td>\n",
       "      <td>0.00775</td>\n",
       "      <td>2.76560</td>\n",
       "      <td>67.74464</td>\n",
       "      <td>123.80700</td>\n",
       "    </tr>\n",
       "    <tr>\n",
       "      <th>2</th>\n",
       "      <td>2</td>\n",
       "      <td>6806.0</td>\n",
       "      <td>65.01717</td>\n",
       "      <td>114.49005</td>\n",
       "      <td>0.03828</td>\n",
       "      <td>0.00976</td>\n",
       "      <td>2.75550</td>\n",
       "      <td>67.75224</td>\n",
       "      <td>123.40514</td>\n",
       "    </tr>\n",
       "    <tr>\n",
       "      <th>3</th>\n",
       "      <td>3</td>\n",
       "      <td>6806.5</td>\n",
       "      <td>63.35363</td>\n",
       "      <td>116.06593</td>\n",
       "      <td>0.03364</td>\n",
       "      <td>0.00568</td>\n",
       "      <td>2.74892</td>\n",
       "      <td>67.71935</td>\n",
       "      <td>123.23686</td>\n",
       "    </tr>\n",
       "    <tr>\n",
       "      <th>4</th>\n",
       "      <td>4</td>\n",
       "      <td>6807.0</td>\n",
       "      <td>62.28267</td>\n",
       "      <td>117.68179</td>\n",
       "      <td>0.03199</td>\n",
       "      <td>0.00340</td>\n",
       "      <td>2.75687</td>\n",
       "      <td>67.69218</td>\n",
       "      <td>123.43977</td>\n",
       "    </tr>\n",
       "  </tbody>\n",
       "</table>\n",
       "</div>"
      ],
      "text/plain": [
       "   Unnamed: 0   Depth  Resistivity  Gamma Ray  Total Porosity   \n",
       "0           0  6805.0     57.47087  110.47838         0.03449  \\\n",
       "1           1  6805.5     58.85637  112.94601         0.03716   \n",
       "2           2  6806.0     65.01717  114.49005         0.03828   \n",
       "3           3  6806.5     63.35363  116.06593         0.03364   \n",
       "4           4  6807.0     62.28267  117.68179         0.03199   \n",
       "\n",
       "   Effective Porosity  Bulk Density  Compression Wave Travel Time   \n",
       "0             0.00445       2.76576                      67.67523  \\\n",
       "1             0.00775       2.76560                      67.74464   \n",
       "2             0.00976       2.75550                      67.75224   \n",
       "3             0.00568       2.74892                      67.71935   \n",
       "4             0.00340       2.75687                      67.69218   \n",
       "\n",
       "   Shear Wave Travel Time  \n",
       "0               124.05187  \n",
       "1               123.80700  \n",
       "2               123.40514  \n",
       "3               123.23686  \n",
       "4               123.43977  "
      ]
     },
     "execution_count": 204,
     "metadata": {},
     "output_type": "execute_result"
    }
   ],
   "source": [
    "rock_df.head()"
   ]
  },
  {
   "cell_type": "code",
   "execution_count": 104,
   "metadata": {},
   "outputs": [],
   "source": [
    "rock_df['Rock_ID'] = rock_df['Unnamed: 0'].astype(str) + 'r'"
   ]
  },
  {
   "cell_type": "code",
   "execution_count": 105,
   "metadata": {},
   "outputs": [
    {
     "data": {
      "text/html": [
       "<div>\n",
       "<style scoped>\n",
       "    .dataframe tbody tr th:only-of-type {\n",
       "        vertical-align: middle;\n",
       "    }\n",
       "\n",
       "    .dataframe tbody tr th {\n",
       "        vertical-align: top;\n",
       "    }\n",
       "\n",
       "    .dataframe thead th {\n",
       "        text-align: right;\n",
       "    }\n",
       "</style>\n",
       "<table border=\"1\" class=\"dataframe\">\n",
       "  <thead>\n",
       "    <tr style=\"text-align: right;\">\n",
       "      <th></th>\n",
       "      <th>Unnamed: 0</th>\n",
       "      <th>Depth</th>\n",
       "      <th>Resistivity</th>\n",
       "      <th>Gamma Ray</th>\n",
       "      <th>Total Porosity</th>\n",
       "      <th>Effective Porosity</th>\n",
       "      <th>Bulk Density</th>\n",
       "      <th>Compression Wave Travel Time</th>\n",
       "      <th>Shear Wave Travel Time</th>\n",
       "      <th>Rock_ID</th>\n",
       "    </tr>\n",
       "  </thead>\n",
       "  <tbody>\n",
       "    <tr>\n",
       "      <th>0</th>\n",
       "      <td>0</td>\n",
       "      <td>6805.0</td>\n",
       "      <td>57.47087</td>\n",
       "      <td>110.47838</td>\n",
       "      <td>0.03449</td>\n",
       "      <td>0.00445</td>\n",
       "      <td>2.76576</td>\n",
       "      <td>67.67523</td>\n",
       "      <td>124.05187</td>\n",
       "      <td>0r</td>\n",
       "    </tr>\n",
       "    <tr>\n",
       "      <th>1</th>\n",
       "      <td>1</td>\n",
       "      <td>6805.5</td>\n",
       "      <td>58.85637</td>\n",
       "      <td>112.94601</td>\n",
       "      <td>0.03716</td>\n",
       "      <td>0.00775</td>\n",
       "      <td>2.76560</td>\n",
       "      <td>67.74464</td>\n",
       "      <td>123.80700</td>\n",
       "      <td>1r</td>\n",
       "    </tr>\n",
       "    <tr>\n",
       "      <th>2</th>\n",
       "      <td>2</td>\n",
       "      <td>6806.0</td>\n",
       "      <td>65.01717</td>\n",
       "      <td>114.49005</td>\n",
       "      <td>0.03828</td>\n",
       "      <td>0.00976</td>\n",
       "      <td>2.75550</td>\n",
       "      <td>67.75224</td>\n",
       "      <td>123.40514</td>\n",
       "      <td>2r</td>\n",
       "    </tr>\n",
       "    <tr>\n",
       "      <th>3</th>\n",
       "      <td>3</td>\n",
       "      <td>6806.5</td>\n",
       "      <td>63.35363</td>\n",
       "      <td>116.06593</td>\n",
       "      <td>0.03364</td>\n",
       "      <td>0.00568</td>\n",
       "      <td>2.74892</td>\n",
       "      <td>67.71935</td>\n",
       "      <td>123.23686</td>\n",
       "      <td>3r</td>\n",
       "    </tr>\n",
       "    <tr>\n",
       "      <th>4</th>\n",
       "      <td>4</td>\n",
       "      <td>6807.0</td>\n",
       "      <td>62.28267</td>\n",
       "      <td>117.68179</td>\n",
       "      <td>0.03199</td>\n",
       "      <td>0.00340</td>\n",
       "      <td>2.75687</td>\n",
       "      <td>67.69218</td>\n",
       "      <td>123.43977</td>\n",
       "      <td>4r</td>\n",
       "    </tr>\n",
       "  </tbody>\n",
       "</table>\n",
       "</div>"
      ],
      "text/plain": [
       "   Unnamed: 0   Depth  Resistivity  Gamma Ray  Total Porosity   \n",
       "0           0  6805.0     57.47087  110.47838         0.03449  \\\n",
       "1           1  6805.5     58.85637  112.94601         0.03716   \n",
       "2           2  6806.0     65.01717  114.49005         0.03828   \n",
       "3           3  6806.5     63.35363  116.06593         0.03364   \n",
       "4           4  6807.0     62.28267  117.68179         0.03199   \n",
       "\n",
       "   Effective Porosity  Bulk Density  Compression Wave Travel Time   \n",
       "0             0.00445       2.76576                      67.67523  \\\n",
       "1             0.00775       2.76560                      67.74464   \n",
       "2             0.00976       2.75550                      67.75224   \n",
       "3             0.00568       2.74892                      67.71935   \n",
       "4             0.00340       2.75687                      67.69218   \n",
       "\n",
       "   Shear Wave Travel Time Rock_ID  \n",
       "0               124.05187      0r  \n",
       "1               123.80700      1r  \n",
       "2               123.40514      2r  \n",
       "3               123.23686      3r  \n",
       "4               123.43977      4r  "
      ]
     },
     "execution_count": 105,
     "metadata": {},
     "output_type": "execute_result"
    }
   ],
   "source": [
    "rock_df.head()"
   ]
  },
  {
   "cell_type": "code",
   "execution_count": 106,
   "metadata": {},
   "outputs": [],
   "source": [
    "rock_df.drop(['Unnamed: 0'], axis=1, inplace=True)"
   ]
  },
  {
   "cell_type": "code",
   "execution_count": 111,
   "metadata": {},
   "outputs": [],
   "source": [
    "rock_dfi = rock_df.set_index('Rock_ID')"
   ]
  },
  {
   "cell_type": "code",
   "execution_count": 112,
   "metadata": {},
   "outputs": [
    {
     "name": "stdout",
     "output_type": "stream",
     "text": [
      "             Depth  Resistivity    Gamma Ray  Total Porosity   \n",
      "count  1904.000000  1904.000000  1904.000000     1904.000000  \\\n",
      "mean   7280.750000   146.141582   116.270437        0.059863   \n",
      "std     274.890887   322.464089    61.220418        0.023739   \n",
      "min    6805.000000    17.413170    24.463470        0.002870   \n",
      "25%    7042.875000    62.688825    84.264097        0.042928   \n",
      "50%    7280.750000    85.495010   117.570395        0.055185   \n",
      "75%    7518.625000   121.405745   130.947012        0.074783   \n",
      "max    7756.500000  7223.240720   623.150210        0.142080   \n",
      "\n",
      "       Effective Porosity  Bulk Density  Compression Wave Travel Time   \n",
      "count         1904.000000   1904.000000                   1904.000000  \\\n",
      "mean             0.038633      2.652268                     73.176217   \n",
      "std              0.023542      0.072419                     10.732976   \n",
      "min              0.002120      2.428950                     50.805650   \n",
      "25%              0.019688      2.601138                     64.791450   \n",
      "50%              0.037425      2.658085                     72.718335   \n",
      "75%              0.054220      2.707355                     80.846762   \n",
      "max              0.119320      2.849760                    101.455720   \n",
      "\n",
      "       Shear Wave Travel Time  \n",
      "count             1904.000000  \n",
      "mean               123.929532  \n",
      "std                 19.252592  \n",
      "min                 85.474240  \n",
      "25%                114.705535  \n",
      "50%                127.687235  \n",
      "75%                137.370110  \n",
      "max                184.778790  \n"
     ]
    }
   ],
   "source": [
    "print(rock_dfi.describe())"
   ]
  },
  {
   "cell_type": "code",
   "execution_count": 113,
   "metadata": {},
   "outputs": [
    {
     "data": {
      "text/html": [
       "<div>\n",
       "<style scoped>\n",
       "    .dataframe tbody tr th:only-of-type {\n",
       "        vertical-align: middle;\n",
       "    }\n",
       "\n",
       "    .dataframe tbody tr th {\n",
       "        vertical-align: top;\n",
       "    }\n",
       "\n",
       "    .dataframe thead th {\n",
       "        text-align: right;\n",
       "    }\n",
       "</style>\n",
       "<table border=\"1\" class=\"dataframe\">\n",
       "  <thead>\n",
       "    <tr style=\"text-align: right;\">\n",
       "      <th></th>\n",
       "      <th>Depth</th>\n",
       "      <th>Resistivity</th>\n",
       "      <th>Gamma Ray</th>\n",
       "      <th>Total Porosity</th>\n",
       "      <th>Effective Porosity</th>\n",
       "      <th>Bulk Density</th>\n",
       "      <th>Compression Wave Travel Time</th>\n",
       "      <th>Shear Wave Travel Time</th>\n",
       "    </tr>\n",
       "    <tr>\n",
       "      <th>Rock_ID</th>\n",
       "      <th></th>\n",
       "      <th></th>\n",
       "      <th></th>\n",
       "      <th></th>\n",
       "      <th></th>\n",
       "      <th></th>\n",
       "      <th></th>\n",
       "      <th></th>\n",
       "    </tr>\n",
       "  </thead>\n",
       "  <tbody>\n",
       "    <tr>\n",
       "      <th>0r</th>\n",
       "      <td>6805.0</td>\n",
       "      <td>57.47087</td>\n",
       "      <td>110.47838</td>\n",
       "      <td>0.03449</td>\n",
       "      <td>0.00445</td>\n",
       "      <td>2.76576</td>\n",
       "      <td>67.67523</td>\n",
       "      <td>124.05187</td>\n",
       "    </tr>\n",
       "    <tr>\n",
       "      <th>1r</th>\n",
       "      <td>6805.5</td>\n",
       "      <td>58.85637</td>\n",
       "      <td>112.94601</td>\n",
       "      <td>0.03716</td>\n",
       "      <td>0.00775</td>\n",
       "      <td>2.76560</td>\n",
       "      <td>67.74464</td>\n",
       "      <td>123.80700</td>\n",
       "    </tr>\n",
       "    <tr>\n",
       "      <th>2r</th>\n",
       "      <td>6806.0</td>\n",
       "      <td>65.01717</td>\n",
       "      <td>114.49005</td>\n",
       "      <td>0.03828</td>\n",
       "      <td>0.00976</td>\n",
       "      <td>2.75550</td>\n",
       "      <td>67.75224</td>\n",
       "      <td>123.40514</td>\n",
       "    </tr>\n",
       "    <tr>\n",
       "      <th>3r</th>\n",
       "      <td>6806.5</td>\n",
       "      <td>63.35363</td>\n",
       "      <td>116.06593</td>\n",
       "      <td>0.03364</td>\n",
       "      <td>0.00568</td>\n",
       "      <td>2.74892</td>\n",
       "      <td>67.71935</td>\n",
       "      <td>123.23686</td>\n",
       "    </tr>\n",
       "    <tr>\n",
       "      <th>4r</th>\n",
       "      <td>6807.0</td>\n",
       "      <td>62.28267</td>\n",
       "      <td>117.68179</td>\n",
       "      <td>0.03199</td>\n",
       "      <td>0.00340</td>\n",
       "      <td>2.75687</td>\n",
       "      <td>67.69218</td>\n",
       "      <td>123.43977</td>\n",
       "    </tr>\n",
       "  </tbody>\n",
       "</table>\n",
       "</div>"
      ],
      "text/plain": [
       "          Depth  Resistivity  Gamma Ray  Total Porosity  Effective Porosity   \n",
       "Rock_ID                                                                       \n",
       "0r       6805.0     57.47087  110.47838         0.03449             0.00445  \\\n",
       "1r       6805.5     58.85637  112.94601         0.03716             0.00775   \n",
       "2r       6806.0     65.01717  114.49005         0.03828             0.00976   \n",
       "3r       6806.5     63.35363  116.06593         0.03364             0.00568   \n",
       "4r       6807.0     62.28267  117.68179         0.03199             0.00340   \n",
       "\n",
       "         Bulk Density  Compression Wave Travel Time  Shear Wave Travel Time  \n",
       "Rock_ID                                                                      \n",
       "0r            2.76576                      67.67523               124.05187  \n",
       "1r            2.76560                      67.74464               123.80700  \n",
       "2r            2.75550                      67.75224               123.40514  \n",
       "3r            2.74892                      67.71935               123.23686  \n",
       "4r            2.75687                      67.69218               123.43977  "
      ]
     },
     "execution_count": 113,
     "metadata": {},
     "output_type": "execute_result"
    }
   ],
   "source": [
    "rock_dfi.head()"
   ]
  },
  {
   "cell_type": "code",
   "execution_count": 114,
   "metadata": {},
   "outputs": [
    {
     "name": "stdout",
     "output_type": "stream",
     "text": [
      "[-1.73114136 -0.2750508  -0.09463474 -1.06910106 -1.45240709  1.56756618\n",
      " -0.51266604  0.00635606]\n"
     ]
    }
   ],
   "source": [
    "# Scaling Our Dataset\n",
    "from sklearn.preprocessing import StandardScaler\n",
    "scaler = StandardScaler()\n",
    "scaled_data = scaler.fit_transform(rock_dfi)\n",
    "\n",
    "print(scaled_data[0])"
   ]
  },
  {
   "cell_type": "code",
   "execution_count": 115,
   "metadata": {},
   "outputs": [
    {
     "data": {
      "text/html": [
       "<style>#sk-container-id-3 {color: black;}#sk-container-id-3 pre{padding: 0;}#sk-container-id-3 div.sk-toggleable {background-color: white;}#sk-container-id-3 label.sk-toggleable__label {cursor: pointer;display: block;width: 100%;margin-bottom: 0;padding: 0.3em;box-sizing: border-box;text-align: center;}#sk-container-id-3 label.sk-toggleable__label-arrow:before {content: \"▸\";float: left;margin-right: 0.25em;color: #696969;}#sk-container-id-3 label.sk-toggleable__label-arrow:hover:before {color: black;}#sk-container-id-3 div.sk-estimator:hover label.sk-toggleable__label-arrow:before {color: black;}#sk-container-id-3 div.sk-toggleable__content {max-height: 0;max-width: 0;overflow: hidden;text-align: left;background-color: #f0f8ff;}#sk-container-id-3 div.sk-toggleable__content pre {margin: 0.2em;color: black;border-radius: 0.25em;background-color: #f0f8ff;}#sk-container-id-3 input.sk-toggleable__control:checked~div.sk-toggleable__content {max-height: 200px;max-width: 100%;overflow: auto;}#sk-container-id-3 input.sk-toggleable__control:checked~label.sk-toggleable__label-arrow:before {content: \"▾\";}#sk-container-id-3 div.sk-estimator input.sk-toggleable__control:checked~label.sk-toggleable__label {background-color: #d4ebff;}#sk-container-id-3 div.sk-label input.sk-toggleable__control:checked~label.sk-toggleable__label {background-color: #d4ebff;}#sk-container-id-3 input.sk-hidden--visually {border: 0;clip: rect(1px 1px 1px 1px);clip: rect(1px, 1px, 1px, 1px);height: 1px;margin: -1px;overflow: hidden;padding: 0;position: absolute;width: 1px;}#sk-container-id-3 div.sk-estimator {font-family: monospace;background-color: #f0f8ff;border: 1px dotted black;border-radius: 0.25em;box-sizing: border-box;margin-bottom: 0.5em;}#sk-container-id-3 div.sk-estimator:hover {background-color: #d4ebff;}#sk-container-id-3 div.sk-parallel-item::after {content: \"\";width: 100%;border-bottom: 1px solid gray;flex-grow: 1;}#sk-container-id-3 div.sk-label:hover label.sk-toggleable__label {background-color: #d4ebff;}#sk-container-id-3 div.sk-serial::before {content: \"\";position: absolute;border-left: 1px solid gray;box-sizing: border-box;top: 0;bottom: 0;left: 50%;z-index: 0;}#sk-container-id-3 div.sk-serial {display: flex;flex-direction: column;align-items: center;background-color: white;padding-right: 0.2em;padding-left: 0.2em;position: relative;}#sk-container-id-3 div.sk-item {position: relative;z-index: 1;}#sk-container-id-3 div.sk-parallel {display: flex;align-items: stretch;justify-content: center;background-color: white;position: relative;}#sk-container-id-3 div.sk-item::before, #sk-container-id-3 div.sk-parallel-item::before {content: \"\";position: absolute;border-left: 1px solid gray;box-sizing: border-box;top: 0;bottom: 0;left: 50%;z-index: -1;}#sk-container-id-3 div.sk-parallel-item {display: flex;flex-direction: column;z-index: 1;position: relative;background-color: white;}#sk-container-id-3 div.sk-parallel-item:first-child::after {align-self: flex-end;width: 50%;}#sk-container-id-3 div.sk-parallel-item:last-child::after {align-self: flex-start;width: 50%;}#sk-container-id-3 div.sk-parallel-item:only-child::after {width: 0;}#sk-container-id-3 div.sk-dashed-wrapped {border: 1px dashed gray;margin: 0 0.4em 0.5em 0.4em;box-sizing: border-box;padding-bottom: 0.4em;background-color: white;}#sk-container-id-3 div.sk-label label {font-family: monospace;font-weight: bold;display: inline-block;line-height: 1.2em;}#sk-container-id-3 div.sk-label-container {text-align: center;}#sk-container-id-3 div.sk-container {/* jupyter's `normalize.less` sets `[hidden] { display: none; }` but bootstrap.min.css set `[hidden] { display: none !important; }` so we also need the `!important` here to be able to override the default hidden behavior on the sphinx rendered scikit-learn.org. See: https://github.com/scikit-learn/scikit-learn/issues/21755 */display: inline-block !important;position: relative;}#sk-container-id-3 div.sk-text-repr-fallback {display: none;}</style><div id=\"sk-container-id-3\" class=\"sk-top-container\"><div class=\"sk-text-repr-fallback\"><pre>PCA()</pre><b>In a Jupyter environment, please rerun this cell to show the HTML representation or trust the notebook. <br />On GitHub, the HTML representation is unable to render, please try loading this page with nbviewer.org.</b></div><div class=\"sk-container\" hidden><div class=\"sk-item\"><div class=\"sk-estimator sk-toggleable\"><input class=\"sk-toggleable__control sk-hidden--visually\" id=\"sk-estimator-id-3\" type=\"checkbox\" checked><label for=\"sk-estimator-id-3\" class=\"sk-toggleable__label sk-toggleable__label-arrow\">PCA</label><div class=\"sk-toggleable__content\"><pre>PCA()</pre></div></div></div></div></div>"
      ],
      "text/plain": [
       "PCA()"
      ]
     },
     "execution_count": 115,
     "metadata": {},
     "output_type": "execute_result"
    }
   ],
   "source": [
    "from sklearn.decomposition import PCA\n",
    "pca = PCA()\n",
    "pca.fit(scaled_data)"
   ]
  },
  {
   "cell_type": "code",
   "execution_count": 116,
   "metadata": {},
   "outputs": [
    {
     "name": "stdout",
     "output_type": "stream",
     "text": [
      "[0.48591306 0.28046891 0.13252787 0.05301049 0.03032274 0.01176772\n",
      " 0.00407937 0.00190984]\n"
     ]
    }
   ],
   "source": [
    "print(pca.explained_variance_ratio_)"
   ]
  },
  {
   "cell_type": "code",
   "execution_count": 117,
   "metadata": {},
   "outputs": [
    {
     "name": "stdout",
     "output_type": "stream",
     "text": [
      "     Explained Variance (%)  Total Explained Variance (%)\n",
      "PCA                                                      \n",
      "1                      48.6                          48.6\n",
      "2                      28.0                          76.6\n",
      "3                      13.3                          89.9\n",
      "4                       5.3                          95.2\n",
      "5                       3.0                          98.2\n",
      "6                       1.2                          99.4\n",
      "7                       0.4                          99.8\n",
      "8                       0.2                         100.0\n"
     ]
    }
   ],
   "source": [
    "# Exploring PCA Data\n",
    "expl_var = pca.explained_variance_ratio_\n",
    "df_expl_var = pd.DataFrame(\n",
    "    data=zip(range(1, len(expl_var) + 1), expl_var, expl_var.cumsum()), \n",
    "    columns=['PCA', 'Explained Variance (%)', 'Total Explained Variance (%)']\n",
    "    ).set_index('PCA').mul(100).round(1)\n",
    "print(df_expl_var)"
   ]
  },
  {
   "cell_type": "markdown",
   "metadata": {},
   "source": [
    "76% of explained variance among 2 variables."
   ]
  },
  {
   "cell_type": "code",
   "execution_count": 118,
   "metadata": {},
   "outputs": [
    {
     "data": {
      "text/plain": [
       "<matplotlib.legend.Legend at 0x12819bd61d0>"
      ]
     },
     "execution_count": 118,
     "metadata": {},
     "output_type": "execute_result"
    },
    {
     "data": {
      "image/png": "[encoded data removed]",
      "text/plain": [
       "<Figure size 800x800 with 1 Axes>"
      ]
     },
     "metadata": {},
     "output_type": "display_data"
    }
   ],
   "source": [
    "# Plotting our explained variance\n",
    "import matplotlib.pyplot as plt\n",
    "\n",
    "fig, ax = plt.subplots(figsize=(8,8))\n",
    "ax.bar(x=df_expl_var.index, height=df_expl_var['Explained Variance (%)'], label='Explained Variance', width=0.9, color='#AAD8D3')\n",
    "ax.plot(df_expl_var['Total Explained Variance (%)'], label='Total Explained Variance', marker='o', c='#37B6BD')\n",
    "\n",
    "plt.ylim(0, 100)\n",
    "plt.ylabel('Explained Variance (%)')\n",
    "plt.xlabel('PCA')\n",
    "plt.grid(True, axis='y')\n",
    "plt.title('Understanding Explained Variance in PCA\\ndatagy.io')\n",
    "plt.legend()"
   ]
  },
  {
   "cell_type": "code",
   "execution_count": 119,
   "metadata": {},
   "outputs": [],
   "source": [
    "# Fitting and Transforming Our Data Using PCA - Reduce to 2 dimensions\n",
    "pca = PCA(2)\n",
    "X_r = pca.fit_transform(scaled_data)"
   ]
  },
  {
   "cell_type": "code",
   "execution_count": 120,
   "metadata": {},
   "outputs": [
    {
     "name": "stdout",
     "output_type": "stream",
     "text": [
      "[[-1.96984975 -2.21858031]\n",
      " [-1.84510566 -2.16326737]]\n"
     ]
    }
   ],
   "source": [
    "print(X_r[:2])"
   ]
  },
  {
   "cell_type": "code",
   "execution_count": 121,
   "metadata": {},
   "outputs": [
    {
     "name": "stdout",
     "output_type": "stream",
     "text": [
      "[[ 0.04347442  0.06005206  0.3894237   0.46464588  0.41138884 -0.33158569\n",
      "   0.44788869  0.38361829]\n",
      " [ 0.58720639  0.09951463 -0.24074602  0.10396103  0.33752687 -0.46786457\n",
      "  -0.2729651  -0.41132391]]\n"
     ]
    }
   ],
   "source": [
    "#loading scores\n",
    "print(pca.components_)"
   ]
  },
  {
   "cell_type": "code",
   "execution_count": 136,
   "metadata": {},
   "outputs": [
    {
     "data": {
      "image/png": "[encoded data removed]",
      "text/plain": [
       "<Figure size 1400x1200 with 2 Axes>"
      ]
     },
     "metadata": {},
     "output_type": "display_data"
    }
   ],
   "source": [
    "# Plotting a Heatmap of Our Loadings\n",
    "import seaborn as sns\n",
    "fig, ax = plt.subplots(figsize=(14,12))\n",
    "\n",
    "ax = sns.heatmap(\n",
    "    pca.components_,\n",
    "    cmap='coolwarm',\n",
    "    yticklabels=[f'PCA{x}' for x in range(1,pca.n_components_+1)],\n",
    "    xticklabels=list(rock_dfi.columns),\n",
    "    linewidths=1,\n",
    "    annot=True,\n",
    "    fmt=',.2f',\n",
    "    cbar_kws={\"shrink\": 0.5, \"orientation\": 'horizontal'}\n",
    "    )\n",
    "\n",
    "ax.set_aspect(\"auto\")\n",
    "plt.title('Loading for Each Variable and Component', weight='bold')\n",
    "plt.show()"
   ]
  },
  {
   "cell_type": "code",
   "execution_count": 183,
   "metadata": {},
   "outputs": [],
   "source": [
    "loadings = pd.DataFrame(pca.components_)"
   ]
  },
  {
   "cell_type": "code",
   "execution_count": 184,
   "metadata": {},
   "outputs": [],
   "source": [
    "feature = pd.DataFrame(list(rock_dfi.columns))"
   ]
  },
  {
   "cell_type": "code",
   "execution_count": 185,
   "metadata": {},
   "outputs": [
    {
     "data": {
      "text/html": [
       "<div>\n",
       "<style scoped>\n",
       "    .dataframe tbody tr th:only-of-type {\n",
       "        vertical-align: middle;\n",
       "    }\n",
       "\n",
       "    .dataframe tbody tr th {\n",
       "        vertical-align: top;\n",
       "    }\n",
       "\n",
       "    .dataframe thead th {\n",
       "        text-align: right;\n",
       "    }\n",
       "</style>\n",
       "<table border=\"1\" class=\"dataframe\">\n",
       "  <thead>\n",
       "    <tr style=\"text-align: right;\">\n",
       "      <th></th>\n",
       "      <th>0</th>\n",
       "      <th>1</th>\n",
       "      <th>2</th>\n",
       "      <th>3</th>\n",
       "      <th>4</th>\n",
       "      <th>5</th>\n",
       "      <th>6</th>\n",
       "      <th>7</th>\n",
       "    </tr>\n",
       "  </thead>\n",
       "  <tbody>\n",
       "    <tr>\n",
       "      <th>0</th>\n",
       "      <td>0.043474</td>\n",
       "      <td>0.060052</td>\n",
       "      <td>0.389424</td>\n",
       "      <td>0.464646</td>\n",
       "      <td>0.411389</td>\n",
       "      <td>-0.331586</td>\n",
       "      <td>0.447889</td>\n",
       "      <td>0.383618</td>\n",
       "    </tr>\n",
       "    <tr>\n",
       "      <th>1</th>\n",
       "      <td>0.587206</td>\n",
       "      <td>0.099515</td>\n",
       "      <td>-0.240746</td>\n",
       "      <td>0.103961</td>\n",
       "      <td>0.337527</td>\n",
       "      <td>-0.467865</td>\n",
       "      <td>-0.272965</td>\n",
       "      <td>-0.411324</td>\n",
       "    </tr>\n",
       "  </tbody>\n",
       "</table>\n",
       "</div>"
      ],
      "text/plain": [
       "          0         1         2         3         4         5         6   \n",
       "0  0.043474  0.060052  0.389424  0.464646  0.411389 -0.331586  0.447889  \\\n",
       "1  0.587206  0.099515 -0.240746  0.103961  0.337527 -0.467865 -0.272965   \n",
       "\n",
       "          7  \n",
       "0  0.383618  \n",
       "1 -0.411324  "
      ]
     },
     "execution_count": 185,
     "metadata": {},
     "output_type": "execute_result"
    }
   ],
   "source": [
    "loadings.head()"
   ]
  },
  {
   "cell_type": "code",
   "execution_count": 186,
   "metadata": {},
   "outputs": [],
   "source": [
    "loadingsdf = loadings.T\n",
    "loadingsdf.columns = ['PC1','PC2']"
   ]
  },
  {
   "cell_type": "code",
   "execution_count": 188,
   "metadata": {},
   "outputs": [],
   "source": [
    "loadingsdf['Feature'] = feature"
   ]
  },
  {
   "cell_type": "code",
   "execution_count": 192,
   "metadata": {},
   "outputs": [
    {
     "data": {
      "text/html": [
       "<div>\n",
       "<style scoped>\n",
       "    .dataframe tbody tr th:only-of-type {\n",
       "        vertical-align: middle;\n",
       "    }\n",
       "\n",
       "    .dataframe tbody tr th {\n",
       "        vertical-align: top;\n",
       "    }\n",
       "\n",
       "    .dataframe thead th {\n",
       "        text-align: right;\n",
       "    }\n",
       "</style>\n",
       "<table border=\"1\" class=\"dataframe\">\n",
       "  <thead>\n",
       "    <tr style=\"text-align: right;\">\n",
       "      <th></th>\n",
       "      <th>PC1</th>\n",
       "      <th>PC2</th>\n",
       "      <th>Feature</th>\n",
       "    </tr>\n",
       "  </thead>\n",
       "  <tbody>\n",
       "    <tr>\n",
       "      <th>0</th>\n",
       "      <td>0.043474</td>\n",
       "      <td>0.587206</td>\n",
       "      <td>Depth</td>\n",
       "    </tr>\n",
       "    <tr>\n",
       "      <th>1</th>\n",
       "      <td>0.060052</td>\n",
       "      <td>0.099515</td>\n",
       "      <td>Resistivity</td>\n",
       "    </tr>\n",
       "    <tr>\n",
       "      <th>2</th>\n",
       "      <td>0.389424</td>\n",
       "      <td>-0.240746</td>\n",
       "      <td>Gamma Ray</td>\n",
       "    </tr>\n",
       "    <tr>\n",
       "      <th>3</th>\n",
       "      <td>0.464646</td>\n",
       "      <td>0.103961</td>\n",
       "      <td>Total Porosity</td>\n",
       "    </tr>\n",
       "    <tr>\n",
       "      <th>4</th>\n",
       "      <td>0.411389</td>\n",
       "      <td>0.337527</td>\n",
       "      <td>Effective Porosity</td>\n",
       "    </tr>\n",
       "    <tr>\n",
       "      <th>5</th>\n",
       "      <td>-0.331586</td>\n",
       "      <td>-0.467865</td>\n",
       "      <td>Bulk Density</td>\n",
       "    </tr>\n",
       "    <tr>\n",
       "      <th>6</th>\n",
       "      <td>0.447889</td>\n",
       "      <td>-0.272965</td>\n",
       "      <td>Compression Wave Travel Time</td>\n",
       "    </tr>\n",
       "    <tr>\n",
       "      <th>7</th>\n",
       "      <td>0.383618</td>\n",
       "      <td>-0.411324</td>\n",
       "      <td>Shear Wave Travel Time</td>\n",
       "    </tr>\n",
       "  </tbody>\n",
       "</table>\n",
       "</div>"
      ],
      "text/plain": [
       "        PC1       PC2                       Feature\n",
       "0  0.043474  0.587206                         Depth\n",
       "1  0.060052  0.099515                   Resistivity\n",
       "2  0.389424 -0.240746                     Gamma Ray\n",
       "3  0.464646  0.103961                Total Porosity\n",
       "4  0.411389  0.337527            Effective Porosity\n",
       "5 -0.331586 -0.467865                  Bulk Density\n",
       "6  0.447889 -0.272965  Compression Wave Travel Time\n",
       "7  0.383618 -0.411324        Shear Wave Travel Time"
      ]
     },
     "execution_count": 192,
     "metadata": {},
     "output_type": "execute_result"
    }
   ],
   "source": [
    "loadingsdf"
   ]
  },
  {
   "cell_type": "code",
   "execution_count": 193,
   "metadata": {},
   "outputs": [],
   "source": [
    "ldf = loadingsdf.set_index('Feature')"
   ]
  },
  {
   "cell_type": "code",
   "execution_count": 201,
   "metadata": {},
   "outputs": [
    {
     "data": {
      "image/png": "[encoded data removed]",
      "text/plain": [
       "<Figure size 1000x800 with 1 Axes>"
      ]
     },
     "metadata": {},
     "output_type": "display_data"
    }
   ],
   "source": [
    "# Visualizing Loading in a Scatterplot\n",
    "fig, ax = plt.subplots(figsize=(10, 8))\n",
    "plt.scatter(\n",
    "    x=ldf['PC1'],\n",
    "    y=ldf['PC2'],\n",
    ")\n",
    "\n",
    "plt.axvline(x=0, c=\"black\", label=\"x=0\")\n",
    "plt.axhline(y=0, c=\"black\", label=\"y=0\")\n",
    "\n",
    "for label, x_val, y_val in zip(ldf.index, ldf['PC1'], ldf['PC2']):\n",
    "    plt.annotate(label, (x_val, y_val), textcoords=\"offset points\", xytext=(0,10), ha='center')\n",
    "\n",
    "plt.title('Visualizing PCA1 and PCA2 Loadings', weight='bold')\n",
    "ax.spines[['right', 'top', ]].set_visible(False)\n",
    "plt.show()"
   ]
  }
 ],
 "metadata": {
  "kernelspec": {
   "display_name": "Python 3",
   "language": "python",
   "name": "python3"
  },
  "language_info": {
   "codemirror_mode": {
    "name": "ipython",
    "version": 3
   },
   "file_extension": ".py",
   "mimetype": "text/x-python",
   "name": "python",
   "nbconvert_exporter": "python",
   "pygments_lexer": "ipython3",
   "version": "3.11.3"
  }
 },
 "nbformat": 4,
 "nbformat_minor": 2
}
